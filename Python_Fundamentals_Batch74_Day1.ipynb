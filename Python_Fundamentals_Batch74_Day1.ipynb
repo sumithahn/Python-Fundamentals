{
 "cells": [
  {
   "cell_type": "code",
   "execution_count": 1,
   "id": "2d723068",
   "metadata": {},
   "outputs": [
    {
     "name": "stdout",
     "output_type": "stream",
     "text": [
      "Hi Faiyaz, Thank you for teaching us Python Fundamentals\n"
     ]
    }
   ],
   "source": [
    "print(\"Hi Faiyaz, Thank you for teaching us Python Fundamentals\")"
   ]
  },
  {
   "cell_type": "code",
   "execution_count": 2,
   "id": "3e91906c",
   "metadata": {},
   "outputs": [
    {
     "name": "stdout",
     "output_type": "stream",
     "text": [
      "Hello All, Welcome to Python World\n"
     ]
    }
   ],
   "source": [
    "print(\"Hello All, Welcome to Python World\")"
   ]
  },
  {
   "cell_type": "code",
   "execution_count": null,
   "id": "e18bc00f",
   "metadata": {},
   "outputs": [],
   "source": []
  }
 ],
 "metadata": {
  "kernelspec": {
   "display_name": "Python 3 (ipykernel)",
   "language": "python",
   "name": "python3"
  },
  "language_info": {
   "codemirror_mode": {
    "name": "ipython",
    "version": 3
   },
   "file_extension": ".py",
   "mimetype": "text/x-python",
   "name": "python",
   "nbconvert_exporter": "python",
   "pygments_lexer": "ipython3",
   "version": "3.9.13"
  }
 },
 "nbformat": 4,
 "nbformat_minor": 5
}
