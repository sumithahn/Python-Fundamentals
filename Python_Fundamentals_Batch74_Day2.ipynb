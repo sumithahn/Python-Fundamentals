{
 "cells": [
  {
   "cell_type": "markdown",
   "id": "fb505e14",
   "metadata": {},
   "source": [
    "Python Variable declaration\n"
   ]
  },
  {
   "cell_type": "code",
   "execution_count": 19,
   "id": "5b5e989c",
   "metadata": {},
   "outputs": [
    {
     "name": "stdout",
     "output_type": "stream",
     "text": [
      "sumitha hanumanthaiah narayanappa\n"
     ]
    }
   ],
   "source": [
    "fullname = 'sumitha hanumanthaiah narayanappa'\n",
    "print(fullname)"
   ]
  },
  {
   "cell_type": "code",
   "execution_count": 4,
   "id": "6f0a9ac6",
   "metadata": {},
   "outputs": [],
   "source": [
    "first_name='Sumitha'\n",
    "middle_name='Hanumanthaiah'\n",
    "last_name='Narayanappa'"
   ]
  },
  {
   "cell_type": "code",
   "execution_count": 5,
   "id": "bb781792",
   "metadata": {},
   "outputs": [
    {
     "name": "stdout",
     "output_type": "stream",
     "text": [
      "Sumitha Narayanappa Hanumanthaiah\n"
     ]
    }
   ],
   "source": [
    "print(first_name,last_name,middle_name)"
   ]
  },
  {
   "cell_type": "code",
   "execution_count": 10,
   "id": "bf6dc8a5",
   "metadata": {},
   "outputs": [
    {
     "ename": "SyntaxError",
     "evalue": "invalid syntax (972553233.py, line 2)",
     "output_type": "error",
     "traceback": [
      "\u001b[0;36m  File \u001b[0;32m\"/var/folders/p3/4k0xj5k949l1v0z6r7c_5lf00000gn/T/ipykernel_653/972553233.py\"\u001b[0;36m, line \u001b[0;32m2\u001b[0m\n\u001b[0;31m    123name='Sumi'\u001b[0m\n\u001b[0m       ^\u001b[0m\n\u001b[0;31mSyntaxError\u001b[0m\u001b[0;31m:\u001b[0m invalid syntax\n"
     ]
    }
   ],
   "source": [
    "#variable cant start with number\n",
    "123name='Sumi'"
   ]
  },
  {
   "cell_type": "code",
   "execution_count": 11,
   "id": "3d4c3000",
   "metadata": {},
   "outputs": [
    {
     "ename": "SyntaxError",
     "evalue": "invalid syntax (4185729772.py, line 2)",
     "output_type": "error",
     "traceback": [
      "\u001b[0;36m  File \u001b[0;32m\"/var/folders/p3/4k0xj5k949l1v0z6r7c_5lf00000gn/T/ipykernel_653/4185729772.py\"\u001b[0;36m, line \u001b[0;32m2\u001b[0m\n\u001b[0;31m    @fullname='Sumi'\u001b[0m\n\u001b[0m             ^\u001b[0m\n\u001b[0;31mSyntaxError\u001b[0m\u001b[0;31m:\u001b[0m invalid syntax\n"
     ]
    }
   ],
   "source": [
    "#variable cant start with special characters\n",
    "@fullname='Sumi'"
   ]
  },
  {
   "cell_type": "code",
   "execution_count": 13,
   "id": "1ea34107",
   "metadata": {},
   "outputs": [
    {
     "name": "stdout",
     "output_type": "stream",
     "text": [
      "sumi Sumitha\n"
     ]
    }
   ],
   "source": [
    "name1='sumi'\n",
    "name2=\"Sumitha\"\n",
    "print(name1,name2)"
   ]
  },
  {
   "cell_type": "code",
   "execution_count": 14,
   "id": "664f4481",
   "metadata": {},
   "outputs": [
    {
     "data": {
      "text/plain": [
       "str"
      ]
     },
     "execution_count": 14,
     "metadata": {},
     "output_type": "execute_result"
    }
   ],
   "source": [
    "type(name1)"
   ]
  },
  {
   "cell_type": "code",
   "execution_count": 15,
   "id": "39773a01",
   "metadata": {},
   "outputs": [
    {
     "data": {
      "text/plain": [
       "str"
      ]
     },
     "execution_count": 15,
     "metadata": {},
     "output_type": "execute_result"
    }
   ],
   "source": [
    "type(middle_name)"
   ]
  },
  {
   "cell_type": "code",
   "execution_count": 20,
   "id": "c8fed089",
   "metadata": {},
   "outputs": [
    {
     "name": "stdout",
     "output_type": "stream",
     "text": [
      "Sumitha Hanumanthaiah Narayanappa\n"
     ]
    }
   ],
   "source": [
    "print(fullname.title())"
   ]
  },
  {
   "cell_type": "code",
   "execution_count": 21,
   "id": "f87743ff",
   "metadata": {},
   "outputs": [
    {
     "name": "stdout",
     "output_type": "stream",
     "text": [
      "SUMITHA HANUMANTHAIAH NARAYANAPPA\n"
     ]
    }
   ],
   "source": [
    "print(fullname.upper())"
   ]
  },
  {
   "cell_type": "code",
   "execution_count": 22,
   "id": "6717a167",
   "metadata": {},
   "outputs": [
    {
     "name": "stdout",
     "output_type": "stream",
     "text": [
      "sumitha hanumanthaiah narayanappa\n"
     ]
    }
   ],
   "source": [
    "print(fullname.lower())"
   ]
  },
  {
   "cell_type": "code",
   "execution_count": 23,
   "id": "fac36636",
   "metadata": {},
   "outputs": [
    {
     "name": "stdout",
     "output_type": "stream",
     "text": [
      "6\n"
     ]
    }
   ],
   "source": [
    "num1=2\n",
    "num2=4\n",
    "result = num1+num2\n",
    "print(result)"
   ]
  },
  {
   "cell_type": "code",
   "execution_count": 24,
   "id": "b1d651b0",
   "metadata": {},
   "outputs": [
    {
     "data": {
      "text/plain": [
       "int"
      ]
     },
     "execution_count": 24,
     "metadata": {},
     "output_type": "execute_result"
    }
   ],
   "source": [
    "type(num1)\n"
   ]
  },
  {
   "cell_type": "code",
   "execution_count": 25,
   "id": "056b324f",
   "metadata": {},
   "outputs": [
    {
     "name": "stdout",
     "output_type": "stream",
     "text": [
      "6.5\n"
     ]
    }
   ],
   "source": [
    "num3=2.4\n",
    "num4=4.1\n",
    "result1 = num3+num4\n",
    "print(result1)"
   ]
  },
  {
   "cell_type": "code",
   "execution_count": 26,
   "id": "7556795e",
   "metadata": {},
   "outputs": [
    {
     "data": {
      "text/plain": [
       "float"
      ]
     },
     "execution_count": 26,
     "metadata": {},
     "output_type": "execute_result"
    }
   ],
   "source": [
    "type(num3)"
   ]
  },
  {
   "cell_type": "code",
   "execution_count": 28,
   "id": "260daa01",
   "metadata": {},
   "outputs": [
    {
     "data": {
      "text/plain": [
       "float"
      ]
     },
     "execution_count": 28,
     "metadata": {},
     "output_type": "execute_result"
    }
   ],
   "source": [
    "type(result1)"
   ]
  },
  {
   "cell_type": "code",
   "execution_count": null,
   "id": "a1f90269",
   "metadata": {},
   "outputs": [],
   "source": []
  }
 ],
 "metadata": {
  "kernelspec": {
   "display_name": "Python 3 (ipykernel)",
   "language": "python",
   "name": "python3"
  },
  "language_info": {
   "codemirror_mode": {
    "name": "ipython",
    "version": 3
   },
   "file_extension": ".py",
   "mimetype": "text/x-python",
   "name": "python",
   "nbconvert_exporter": "python",
   "pygments_lexer": "ipython3",
   "version": "3.9.13"
  }
 },
 "nbformat": 4,
 "nbformat_minor": 5
}
